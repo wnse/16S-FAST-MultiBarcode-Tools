{
 "cells": [
  {
   "cell_type": "code",
   "execution_count": 1,
   "id": "static-employee",
   "metadata": {},
   "outputs": [],
   "source": [
    "import pandas as pd\n",
    "import argparse\n",
    "import logging\n",
    "import os\n",
    "import numpy as np\n",
    "import matplotlib.pyplot as plt\n",
    "import seaborn as sns"
   ]
  },
  {
   "cell_type": "code",
   "execution_count": 1,
   "id": "dental-nevada",
   "metadata": {
    "lines_to_next_cell": 2
   },
   "outputs": [],
   "source": [
    "def reads2uID(df_umi_paired_dropRepeat, df_uID_dropRepeat, Fbarcode='F1', Rbarcode='R3'):\n",
    "    df_uID = df_uID_dropRepeat[df_uID_dropRepeat['Barcode']==Fbarcode+'|'+Rbarcode]\n",
    "    umi_list = set(df_uID['umi_21'].to_list() + df_uID['umi_11'].to_list())\n",
    "    df_umi = df_umi_paired_dropRepeat[df_umi_paired_dropRepeat['umi'].isin(umi_list)]\n",
    "    \n",
    "    df_Aread2uID = pd.merge(df_umi, df_uID.set_index('umi_21')['umiID'], left_on='umi', right_index=True, how='left')\n",
    "    df_Aread2uID = pd.merge(df_Aread2uID, df_uID.set_index('umi_11')['umiID'], left_on='umi', right_index=True, how='left')\n",
    "\n",
    "    check1 = df_Aread2uID[df_Aread2uID[['umiID_x', 'umiID_y']].isna().all(axis=1)].index\n",
    "    check2 = df_Aread2uID[(~df_Aread2uID[['umiID_x', 'umiID_y']].isna()).all(axis=1)].index\n",
    "    logging.info('umis not in any uID of barcode {}:\\t{}'.format(Fbarcode+\"|\"+Rbarcode, len(check2)))\n",
    "    logging.info('umis in multiple uID of barcode {}:\\t{}'.format(Fbarcode+\"|\"+Rbarcode, len(check2)))\n",
    "\n",
    "    if len(check1) != 0 or  len(check2) != 0:\n",
    "        df_Aread2uID = df_Aread2uID.drop(np.concatenate([check1, check2]))\n",
    "\n",
    "    df_Aread2uID.loc[df_Aread2uID['umiID_x'].isna(), 'umiID'] = df_Aread2uID.loc[df_Aread2uID['umiID_x'].isna(), 'umiID_y']\n",
    "    df_Aread2uID.loc[df_Aread2uID['umiID_y'].isna(), 'umiID'] = df_Aread2uID.loc[df_Aread2uID['umiID_y'].isna(), 'umiID_x']\n",
    "    df_Aread2uID = df_Aread2uID.drop(['umiID_x', 'umiID_y'], axis=1)\n",
    "    df_Aread2uID = df_Aread2uID.drop_duplicates()\n",
    "    \n",
    "    return df_Aread2uID"
   ]
  },
  {
   "cell_type": "code",
   "execution_count": 2,
   "id": "postal-riding",
   "metadata": {},
   "outputs": [],
   "source": [
    "def reads2uID_total(df_umi_paired_dropRepeat, df_uID):\n",
    "    def check_BinS(df_Aread2uID, s='Sample_x'):\n",
    "        df_tmp = df_Aread2uID[~(df_Aread2uID[s].isna())]\n",
    "        idx = df_tmp.apply(lambda df: df['Barcode'] in df[s].split('|'), axis=1)\n",
    "        if len(idx)>0:\n",
    "            logging.info('\\n{}'.format(df_tmp[~idx]))\n",
    "        return df_tmp[~idx].index\n",
    "        \n",
    "#     df_uID = df_uID_dropRepeat[df_uID_dropRepeat['Barcode']==Fbarcode+'|'+Rbarcode]\n",
    "    umi_list = set(df_uID['umi_21'].to_list() + df_uID['umi_11'].to_list())\n",
    "    df_umi = df_umi_paired_dropRepeat[df_umi_paired_dropRepeat['umi'].isin(umi_list)]\n",
    "    df_uID_tmp = df_uID.set_index('umi_21')[['umiID','Barcode']].rename(columns={'Barcode':'Sample'})\n",
    "    df_Aread2uID = pd.merge(df_umi, df_uID_tmp, left_on='umi', right_index=True, how='left')\n",
    "    df_uID_tmp = df_uID.set_index('umi_11')[['umiID','Barcode']].rename(columns={'Barcode':'Sample'})\n",
    "    df_Aread2uID = pd.merge(df_Aread2uID, df_uID_tmp, left_on='umi', right_index=True, how='left')\n",
    "\n",
    "    check1 = df_Aread2uID[df_Aread2uID[['umiID_x', 'umiID_y']].isna().all(axis=1)].index\n",
    "    check2 = df_Aread2uID[(~df_Aread2uID[['umiID_x', 'umiID_y']].isna()).all(axis=1)].index\n",
    "    logging.info('\\n{}'.format(df_Aread2uID.loc[check1]))\n",
    "    logging.info('\\n{}'.format(df_Aread2uID.loc[check2]))\n",
    "    logging.info('umis not in any uID:\\t{}'.format(len(check1)))\n",
    "    logging.info('umis in multiple uID:\\t{}'.format(len(check2)))\n",
    "\n",
    "    df_Aread2uID.loc[df_Aread2uID['umiID_x'].isna(), 'umiID'] = df_Aread2uID.loc[df_Aread2uID['umiID_x'].isna(), 'umiID_y']\n",
    "    df_Aread2uID.loc[df_Aread2uID['umiID_y'].isna(), 'umiID'] = df_Aread2uID.loc[df_Aread2uID['umiID_y'].isna(), 'umiID_x']\n",
    "        \n",
    "    check3 = check_BinS(df_Aread2uID, s='Sample_x')\n",
    "    check4 = check_BinS(df_Aread2uID, s='Sample_y')\n",
    "    logging.info('A2 Barcode inconsistent with L F barcode:\\t{}'.format(len(check3)))\n",
    "    logging.info('A2 Barcode inconsistent with L R barcode:\\t{}'.format(len(check4)))\n",
    "    \n",
    "    df_Aread2uID.loc[df_Aread2uID['Sample_x'].isna(), 'Sample'] = df_Aread2uID.loc[df_Aread2uID['Sample_x'].isna(), 'Sample_y']\n",
    "    df_Aread2uID.loc[df_Aread2uID['Sample_y'].isna(), 'Sample'] = df_Aread2uID.loc[df_Aread2uID['Sample_y'].isna(), 'Sample_x']\n",
    "\n",
    "\n",
    "    if len(check1) != 0 or  len(check2) != 0 or len(check3) != 0 or len(check4) != 0:\n",
    "        idx = np.concatenate([check1, check2, check3, check4])\n",
    "        df_Aread2uID_repeat = df_Aread2uID.loc[idx]\n",
    "        df_Aread2uID = df_Aread2uID.drop(idx)\n",
    "    else:\n",
    "        df_Aread2uID_repeat = pd.DataFrame()\n",
    "    \n",
    "    df_Aread2uID = df_Aread2uID.drop(['umiID_x', 'umiID_y'], axis=1)\n",
    "    df_Aread2uID = df_Aread2uID.drop(['Sample_x', 'Sample_y'], axis=1)\n",
    "    df_Aread2uID = df_Aread2uID.drop_duplicates()\n",
    "    return df_Aread2uID, df_Aread2uID_repeat\n",
    "\n",
    "\n",
    "# df_Aread2uID, df_Aread2uID_repeat = reads2uID_total(df_umi_paired_dropRepeat, df_uID)"
   ]
  },
  {
   "cell_type": "code",
   "execution_count": 5,
   "id": "revolutionary-identity",
   "metadata": {},
   "outputs": [],
   "source": [
    "# out_dir = '../test/out_dir_2'\n",
    "# File_Tag = 'test'\n",
    "# FB = 'F1'\n",
    "# RB = 'R3'\n",
    "# # A_uID_file = os.path.join(out_dir, File_Tag+'_A_reads2uID.csv')\n",
    "\n",
    "\n",
    "# A_umi_info_file = os.path.join(out_dir, File_Tag+'_A_umi_dropRepeat.csv')\n",
    "# df_umi_paired_dropRepeat = pd.read_csv(A_umi_info_file, index_col=0)\n",
    "# L_uID_info_file = os.path.join(out_dir, File_Tag+'_L_uID_dropRepeat.csv')\n",
    "# df_uID_dropRepeat = pd.read_csv(L_uID_info_file, index_col=0)\n",
    "# df_Aread2uID, df_Aread2uID_repeat = reads2uID_total(df_umi_paired_dropRepeat, df_uID_dropRepeat)\n",
    "# # df_Aread2uID.to_csv(A_uID_file)"
   ]
  }
 ],
 "metadata": {
  "jupytext": {
   "formats": "ipynb,py:percent"
  },
  "kernelspec": {
   "display_name": "Python 3",
   "language": "python",
   "name": "python3"
  },
  "language_info": {
   "codemirror_mode": {
    "name": "ipython",
    "version": 3
   },
   "file_extension": ".py",
   "mimetype": "text/x-python",
   "name": "python",
   "nbconvert_exporter": "python",
   "pygments_lexer": "ipython3",
   "version": "3.7.7"
  }
 },
 "nbformat": 4,
 "nbformat_minor": 5
}

{
 "cells": [
  {
   "cell_type": "code",
   "execution_count": 3,
   "metadata": {},
   "outputs": [
    {
     "name": "stderr",
     "output_type": "stream",
     "text": [
      "usage: ipykernel_launcher.py [-h] [-c CONFIG_FILE] -f A1_FILE -u UID_FILE -FB\n",
      "                             FBARCODE -RB RBARCODE -n NAME -o OUT_DIR\n",
      "ipykernel_launcher.py: error: the following arguments are required: -u/--uID_file, -FB/--Fbarcode, -RB/--Rbarcode, -n/--Name, -o/--out_dir\n"
     ]
    },
    {
     "ename": "SystemExit",
     "evalue": "2",
     "output_type": "error",
     "traceback": [
      "An exception has occurred, use %tb to see the full traceback.\n",
      "\u001b[0;31mSystemExit\u001b[0m\u001b[0;31m:\u001b[0m 2\n"
     ]
    },
    {
     "name": "stderr",
     "output_type": "stream",
     "text": [
      "/Users/yk/work/git/16S-FAST-Tools-2021/venv/lib/python3.7/site-packages/IPython/core/interactiveshell.py:3435: UserWarning: To exit: use 'exit', 'quit', or Ctrl-D.\n",
      "  warn(\"To exit: use 'exit', 'quit', or Ctrl-D.\", stacklevel=1)\n"
     ]
    }
   ],
   "source": [
    "import sys\n",
    "import os\n",
    "sys.path.append(os.path.join(sys.path[0], './scripts/'))\n",
    "import pandas as pd\n",
    "import logging\n",
    "import argparse\n",
    "import psutil\n",
    "\n",
    "script_path = sys.path[0]\n",
    "\n",
    "if __name__ == '__main__':\n",
    "    parser = argparse.ArgumentParser(formatter_class=argparse.ArgumentDefaultsHelpFormatter, description='Barcode Analysis')\n",
    "    parser.add_argument('-c', '--config_file', help='config file including program path', \n",
    "                        default=os.path.join(script_path,'config_path_linux.txt'))\n",
    "    parser.add_argument('-f', '--A1_file', help='Assemble data R1 fastq', required=True)\n",
    "    parser.add_argument('-f2', '--A2_file', help='Assemble data R2 fastq', default=None)\n",
    "    parser.add_argument('-u', '--uID_file', help='R1 reads ID to umiID file, with columns [umiID|AreadsID|Sample]', required=True)\n",
    "    parser.add_argument('-FB', '--Fbarcode', help='F barcode, eg. F1,F2,F3...', required=True)\n",
    "    parser.add_argument('-RB', '--Rbarcode', help='R barcode, eg. R1,R2,R3...', required=True)\n",
    "    parser.add_argument('-n', '--Name', help='Sample name in uID file', required=True)\n",
    "    parser.add_argument('-o', '--out_dir', help='result out dir', required=True)\n",
    "    \n",
    "    args = parser.parse_args()\n",
    "    \n",
    "    logging.basicConfig(filename=os.path.join(args.out_dir, 'log'), format='%(asctime)s %(levelname)s:%(message)s',level='INFO')\n",
    "#     logging.basicConfig(format='%(asctime)s %(levelname)s:%(message)s',level='INFO')\n",
    "    contig_path = pd.read_csv(args.config_file, sep=':', header=None).set_index(0).to_dict()[1]\n",
    "    contig_path['threads'] = psutil.cpu_count()\n",
    "    logging.info(contig_path)\n",
    "    \n",
    "    from BarcodeAna import BarcodeAna\n",
    "    BarcodeAna(args.A1_file, args.uID_file, \n",
    "               A2_file=args.A2_file,\n",
    "               Fbarcode=args.Fbarcode, \n",
    "               Rbarcode=args.Rbarcode, \n",
    "               barcode_name=args.Name,\n",
    "               out_dir=args.out_dir,\n",
    "               **contig_path\n",
    "              )"
   ]
  }
 ],
 "metadata": {
  "jupytext": {
   "formats": "ipynb,py:percent"
  },
  "kernelspec": {
   "display_name": "Python 3",
   "language": "python",
   "name": "python3"
  },
  "language_info": {
   "codemirror_mode": {
    "name": "ipython",
    "version": 3
   },
   "file_extension": ".py",
   "mimetype": "text/x-python",
   "name": "python",
   "nbconvert_exporter": "python",
   "pygments_lexer": "ipython3",
   "version": "3.7.4"
  }
 },
 "nbformat": 4,
 "nbformat_minor": 5
}

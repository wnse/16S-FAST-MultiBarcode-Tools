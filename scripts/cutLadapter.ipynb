{
 "cells": [
  {
   "cell_type": "code",
   "execution_count": 10,
   "id": "billion-likelihood",
   "metadata": {
    "tags": []
   },
   "outputs": [],
   "source": [
    "import os\n",
    "import logging\n",
    "\n",
    "from submit_cutadapt import submit_cutadapt\n",
    "from mkdir import mkdir\n",
    "from Bio.Seq import Seq"
   ]
  },
  {
   "cell_type": "code",
   "execution_count": null,
   "id": "approved-doctrine",
   "metadata": {},
   "outputs": [],
   "source": []
  },
  {
   "cell_type": "code",
   "execution_count": 12,
   "id": "funded-nature",
   "metadata": {},
   "outputs": [],
   "source": [
    "def cutLadapter(L1, L2, File_Tag='test', out_dir='./',\n",
    "                Linker=os.path.join('../adapter_fa/', 'L_1-8.fa'),\n",
    "                LinkerRC=os.path.join('../adapter_fa/', 'Lrc_1-8.fa'),\n",
    "                Adapter=os.path.join('../adapter_fa/', 'A.fa'),\n",
    "                AdapterRC=os.path.join('../adapter_fa/', 'Arc.fa'),\n",
    "                cutadapt=os.path.join('../venv/bin', 'cutadapt'),\n",
    "                error=0,\n",
    "               ):\n",
    "    \n",
    "    mkdir(out_dir)\n",
    "\n",
    "    L1_cut_adapter = os.path.join(out_dir,File_Tag+'_cut_adapter_10.fq.gz')\n",
    "    L1_cut_adapter_log = os.path.join(out_dir,File_Tag+'_cut_adapter_10.log')\n",
    "    L1_cut_adapter_1 = os.path.join(out_dir,File_Tag+'_cut_adapter_11.fq.gz')\n",
    "    L1_cut_adapter_log_1 = os.path.join(out_dir,File_Tag+'_cut_adapter_11.log')\n",
    "\n",
    "    umi1_fq = os.path.join(out_dir,File_Tag+'_cut_primer_10.fq')\n",
    "    umi1_fq_log = os.path.join(out_dir,File_Tag+'_cut_primer_10.log')\n",
    "    umi1_fq_1 = os.path.join(out_dir,File_Tag+'_cut_primer_11.fq')\n",
    "    umi1_fq_log_1 = os.path.join(out_dir,File_Tag+'_cut_primer_11.log')\n",
    "\n",
    "    L2_cut_adapter = os.path.join(out_dir,File_Tag+'_cut_adapter_20.fq.gz')\n",
    "    L2_cut_adapter_log = os.path.join(out_dir,File_Tag+'_cut_adapter_20.log')\n",
    "    L2_cut_adapter_1 = os.path.join(out_dir,File_Tag+'_cut_adapter_21.fq.gz')\n",
    "    L2_cut_adapter_log_1 = os.path.join(out_dir,File_Tag+'_cut_adapter_21.log')\n",
    "\n",
    "    umi2_fq = os.path.join(out_dir,File_Tag+'_cut_primer_20.fq')\n",
    "    umi2_fq_log = os.path.join(out_dir,File_Tag+'_cut_primer_20.log')\n",
    "    umi2_fq_1 = os.path.join(out_dir,File_Tag+'_cut_primer_21.fq')\n",
    "    umi2_fq_log_1 = os.path.join(out_dir,File_Tag+'_cut_primer_21.log')\n",
    "\n",
    "\n",
    "    submit_cutadapt(L1,L1_cut_adapter,L1_cut_adapter_log,\n",
    "                    'file:'+AdapterRC ,'g',cutadapt, error=error, info=1)\n",
    "    submit_cutadapt(L1_cut_adapter,umi1_fq,umi1_fq_log,\n",
    "                    'file:'+LinkerRC,'a',cutadapt, error=error, info=1)\n",
    "    submit_cutadapt(L1, L1_cut_adapter_1, L1_cut_adapter_log_1,\n",
    "                    'file:'+Adapter, 'a', cutadapt, error=error, info=1)\n",
    "    submit_cutadapt(L1_cut_adapter_1, umi1_fq_1, umi1_fq_log_1,\n",
    "                    'file:'+Linker, 'g', cutadapt, error=error, info=1)\n",
    "\n",
    "    submit_cutadapt(L2,L2_cut_adapter,L2_cut_adapter_log,\n",
    "                    'file:'+AdapterRC ,'g',cutadapt, error=error, info=1)\n",
    "    submit_cutadapt(L2_cut_adapter,umi2_fq,umi2_fq_log,\n",
    "                    'file:'+LinkerRC,'a',cutadapt, error=error, info=1)\n",
    "    submit_cutadapt(L2, L2_cut_adapter_1, L2_cut_adapter_log_1,\n",
    "                    'file:'+Adapter, 'a', cutadapt, error=error, info=1)\n",
    "    submit_cutadapt(L2_cut_adapter_1, umi2_fq_1, umi2_fq_log_1,\n",
    "                    'file:'+Linker,'g', cutadapt, error=error, info=1)\n",
    "    return umi1_fq, umi1_fq_1, umi2_fq, umi2_fq_1"
   ]
  }
 ],
 "metadata": {
  "jupytext": {
   "formats": "ipynb,py:percent"
  },
  "kernelspec": {
   "display_name": "Python 3",
   "language": "python",
   "name": "python3"
  },
  "language_info": {
   "codemirror_mode": {
    "name": "ipython",
    "version": 3
   },
   "file_extension": ".py",
   "mimetype": "text/x-python",
   "name": "python",
   "nbconvert_exporter": "python",
   "pygments_lexer": "ipython3",
   "version": "3.7.7"
  }
 },
 "nbformat": 4,
 "nbformat_minor": 5
}

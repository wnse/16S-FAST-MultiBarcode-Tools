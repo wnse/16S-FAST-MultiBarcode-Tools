{
 "cells": [
  {
   "cell_type": "code",
   "execution_count": 2,
   "id": "precise-education",
   "metadata": {},
   "outputs": [],
   "source": [
    "import os\n",
    "import logging\n",
    "from submit_cutadapt import submit_cutadapt\n",
    "from mkdir import mkdir\n",
    "from Bio.Seq import Seq"
   ]
  },
  {
   "cell_type": "code",
   "execution_count": 3,
   "id": "french-european",
   "metadata": {},
   "outputs": [],
   "source": [
    "def cutAadapter(A2, File_Tag='test', out_dir='./',\n",
    "                Linker=os.path.join('../adapter_fa/', 'L_1-8.fa'),\n",
    "                Adapter=os.path.join('../adapter_fa/', 'A.fa'),\n",
    "                cutadapt=os.path.join('../venv/bin', 'cutadapt'),\n",
    "                error=0,\n",
    "               ):\n",
    "    \n",
    "    mkdir(out_dir)\n",
    "\n",
    "    A2_cut_adapter = os.path.join(out_dir,File_Tag+'_cut_adapter_P.fq.gz')\n",
    "    A2_cut_adapter_log = os.path.join(out_dir,File_Tag+'_cut_adapter_P.log')\n",
    "    A2_cut_adapter_info = A2_cut_adapter + '.cutadapt.info.file'\n",
    "    A2_umi_file = os.path.join(out_dir,File_Tag+'_cut_linker_P.fq')\n",
    "    A2_umi_file_log = os.path.join(out_dir,File_Tag+'_cut_linker_P.log')\n",
    "    A2_umi_file_info = A2_umi_file + '.cutadapt.info.file'\n",
    "    \n",
    "    submit_cutadapt(A2,A2_cut_adapter,A2_cut_adapter_log,\n",
    "                    'file:'+Adapter,'a',cutadapt, error=error, info=1)\n",
    "    submit_cutadapt(A2_cut_adapter,A2_umi_file,A2_umi_file_log,\n",
    "                    'file:'+Linker,'g',cutadapt, error=error, info=1)\n",
    "    \n",
    "    return A2_cut_adapter_info, A2_umi_file_info, A2_umi_file"
   ]
  },
  {
   "cell_type": "code",
   "execution_count": 5,
   "id": "buried-figure",
   "metadata": {},
   "outputs": [
    {
     "name": "stderr",
     "output_type": "stream",
     "text": [
      "2021-02-25 10:22:33,468 INFO: ../venv/bin/cutadapt -a file:../adapter_fa/A.fa -o ../test/out_dir/test_cut_adapter_P.fq.gz ../test/rawdata/1-P_R2_test.fastq.gz -e 0 --info-file ../test/out_dir/test_cut_adapter_P.fq.gz.cutadapt.info.file > ../test/out_dir/test_cut_adapter_P.log\n",
      "2021-02-25 10:24:28,750 INFO: ../venv/bin/cutadapt -g file:../adapter_fa/L_1-8.fa -o ../test/out_dir/test_cut_linker_P.fq ../test/out_dir/test_cut_adapter_P.fq.gz -e 0 --info-file ../test/out_dir/test_cut_linker_P.fq.cutadapt.info.file > ../test/out_dir/test_cut_linker_P.log\n"
     ]
    },
    {
     "data": {
      "text/plain": [
       "('../test/out_dir/test_cut_linker_P.fq',\n",
       " '../test/out_dir/test_cut_linker_P.fq.cutadapt.info.file')"
      ]
     },
     "execution_count": 5,
     "metadata": {},
     "output_type": "execute_result"
    }
   ],
   "source": [
    "# logging.basicConfig(format='%(asctime)s %(levelname)s:%(message)s',level='INFO')\n",
    "# A2 = '../test/rawdata/1-P_R2_test.fastq.gz'\n",
    "# out_dir = '../test/out_dir'\n",
    "# cutAadapter(A2, out_dir=out_dir)"
   ]
  }
 ],
 "metadata": {
  "jupytext": {
   "formats": "ipynb,py:percent"
  },
  "kernelspec": {
   "display_name": "Python 3",
   "language": "python",
   "name": "python3"
  },
  "language_info": {
   "codemirror_mode": {
    "name": "ipython",
    "version": 3
   },
   "file_extension": ".py",
   "mimetype": "text/x-python",
   "name": "python",
   "nbconvert_exporter": "python",
   "pygments_lexer": "ipython3",
   "version": "3.7.7"
  }
 },
 "nbformat": 4,
 "nbformat_minor": 5
}

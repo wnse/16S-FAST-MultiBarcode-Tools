{
 "cells": [
  {
   "cell_type": "code",
   "execution_count": null,
   "id": "juvenile-internship",
   "metadata": {},
   "outputs": [],
   "source": [
    "import argparse\n",
    "import logging\n",
    "import os\n",
    "\n",
    "def submit_bowtie(in_file,out_file,db,log_file,threads,bowtie_path):\n",
    "    '''\n",
    "    bowtie alignment\n",
    "    '''\n",
    "    str_join=' '\n",
    "#     bowtie2 -u 10000 -p 8 -x index -1 reads1.fq -2 reads2.fq -S out.sam\n",
    "    cmd=str_join.join([bowtie_path,\n",
    "                       '-u', str(100000),\n",
    "                       '-p', str(threads),\n",
    "                       '-x',db,\n",
    "                       '-q',in_file,\n",
    "                       '-S',out_file,\n",
    "                       '1>',log_file,\n",
    "                       '2>',log_file])\n",
    "    logging.info(' %s'%cmd)\n",
    "    status=os.system(cmd)\n",
    "    if status==0:\n",
    "        logging.info(' done')\n",
    "    else:\n",
    "        logging.info(' exit')\n",
    "\n",
    "# if __name__ == '__main__':\n",
    "#     parser = argparse.ArgumentParser(description=\\\n",
    "#                                      'this is for alignment of fasta \\\n",
    "#                                      using bowtie2')\n",
    "#     parser.add_argument('-i','--in_fasta',help='input fasta file',required=True)\n",
    "#     parser.add_argument('-o','--out_sam',help='output sam file',required=True)\n",
    "#     parser.add_argument('-l','--log',help='output log file. default=out.log',\\\n",
    "#                         default='')\n",
    "#     parser.add_argument('-d', '--db', help='bowtie db', default='/Bioinfo/Database/16S_BSI/GM_BSI_v3')\n",
    "#     parser.add_argument('-t','--threads',help='threads for bowtie. default=1',default=1,type=int)\n",
    "#     parser.add_argument('-path','--bowtie2_path',help='bowtie2 absolute path.',\n",
    "#                         default='/root/anaconda3/bin/bowtie2')\n",
    "#     args = parser.parse_args()\n",
    "#     logging.basicConfig(format='%(asctime)s %(levelname)s:%(message)s',level=logging.INFO)\n",
    "#     log_check = args.log if args.log else args.out_sam + '.log'\n",
    "#     submit_bowtie(args.in_fasta,args.out_sam,args.db,log_check,args.threads,args.bowtie2_path)  "
   ]
  }
 ],
 "metadata": {
  "jupytext": {
   "formats": "ipynb,py:percent"
  },
  "kernelspec": {
   "display_name": "Python 3",
   "language": "python",
   "name": "python3"
  },
  "language_info": {
   "codemirror_mode": {
    "name": "ipython",
    "version": 3
   },
   "file_extension": ".py",
   "mimetype": "text/x-python",
   "name": "python",
   "nbconvert_exporter": "python",
   "pygments_lexer": "ipython3",
   "version": "3.7.7"
  }
 },
 "nbformat": 4,
 "nbformat_minor": 5
}

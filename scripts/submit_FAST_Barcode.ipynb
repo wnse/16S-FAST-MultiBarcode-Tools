{
 "cells": [
  {
   "cell_type": "code",
   "execution_count": 9,
   "metadata": {
    "lines_to_next_cell": 2
   },
   "outputs": [],
   "source": [
    "import json\n",
    "import os\n",
    "import argparse\n",
    "import time\n",
    "import logging\n",
    "                \n",
    "def submit_FAST_Barcode(ar1, A_uID_file,\n",
    "                        FB, RB,\n",
    "                        remark, lib_name, sam_name,\n",
    "                        result_path,\n",
    "                        *args\n",
    "                       ):\n",
    "    result_path = os.path.join(result_path,str(remark),str(lib_name),str(sam_name))\n",
    "    cmd_list = ['/root/anaconda3/bin/python3.7', \n",
    "                '/Bioinfo/16S-FAST-Tools-2021/16S_FAST_Analysis_v5_Barcode.py',\n",
    "                '-f ${ar1}',\n",
    "                '-u ${A_uID_file}',\n",
    "                '-FB', FB,\n",
    "                '-RB', RB,\n",
    "                '-o', '${outdir}',\n",
    "                '-n', sam_name,\n",
    "               ]\n",
    "    if args:\n",
    "        cmd_list.extend(list(args))\n",
    "    cmd=' '.join(cmd_list)\n",
    "    # print(cmd)\n",
    "    config={\n",
    "                'application':\n",
    "                {\n",
    "                    'cmd':cmd,\n",
    "                    'id':2,\n",
    "                    'name':'16S-FAST-Tools-2021',\n",
    "                },\n",
    "                'baseData':\n",
    "                {\n",
    "                    'remark':remark\n",
    "                },\n",
    "                'datas':\n",
    "                [\n",
    "                    {\n",
    "                        'objectKey':ar1,'paramKey':'ar1'\n",
    "                    },\n",
    "                    {\n",
    "                        'objectKey':A_uID_file,'paramKey':'A_uID_file'\n",
    "                    },\n",
    "                ],\n",
    "                'name':sam_name,\n",
    "                'result':\n",
    "                {\n",
    "                    'path':result_path,\n",
    "                    'paramKey':'outdir'\n",
    "                },\n",
    "                'type':'aln'    \n",
    "    }\n",
    "    config_json=(json.dumps(config))\n",
    "    commond=\"curl -X POST https://bc.dev.germountx.com/api/tasks -H 'Content-Type: application/json' -d \" + \\\n",
    "            \"'\" + config_json + \"'\"\n",
    "    out=os.popen(commond)\n",
    "    # print(ar1, ar2, lr1, lr2, name, result_path)\n",
    "    logging.info('{}\\t{}\\t{}'.format(out.read(), sam_name, result_path))\n",
    "    # logging.info('{} {}'.format(name,out.read()))"
   ]
  },
  {
   "cell_type": "code",
   "execution_count": 10,
   "metadata": {},
   "outputs": [],
   "source": [
    "# A_uID_file = '/mnt/data/16S_FAST_V5_UMI/test/LibaryName/test_A_uID_dropRepeat.csv'\n",
    "# A1_file = '/mnt/data/16S_FAST_V5_UMI/test/1-P_R1_test.fastq.gz'\n",
    "# FB = 'F1'\n",
    "# RB = 'R5'\n",
    "# result_path = '/mnt/data/yangkai/16S_FAST/V5/'\n",
    "# remark = '202103080653'\n",
    "# library_name = 'Library'\n",
    "# sample_name = 'sample'\n",
    "# submit_FAST_Barcode(A1_file, A_uID_file, FB, RB, remark, library_name, sample_name, result_path)"
   ]
  },
  {
   "cell_type": "code",
   "execution_count": null,
   "metadata": {},
   "outputs": [],
   "source": [
    "# if __name__ == '__main__':\n",
    "#     logging.basicConfig(format='%(asctime)s %(levelname)s:%(message)s',level=logging.INFO) \n",
    "#     date = time.strftime(\"%Y%m%d%H%M%S\", time.localtime()) \n",
    "#     __version__ = \"0.1_20190918\"\n",
    "#     parser = argparse.ArgumentParser()\n",
    "#     parser.add_argument('--version', action='version',version='%(prog)s {version}'.format(version=__version__))\n",
    "#     parser.add_argument('-ar1','--Assemble_Read_1',help='Assemble Read 1 fastq data absolute path in bc-input',required=True)\n",
    "#     parser.add_argument('-uID','--A_uID_file',help='AuIDfile in bc-input',required=True)\n",
    "#     parser.add_argument('-n','--name',help='sample name.',required=True)\n",
    "#     parser.add_argument('-remark','--remark',help='batch name. default:Current Time',default=date)\n",
    "#     parser.add_argument('-o','--outdir',help='result dir in bc-output. default:/mnt/data/yangkai/16S_FAST/remark/name',\\\n",
    "#                         default='/mnt/data/yangkai/16S_FAST/V5')\n",
    "#     parser.add_argument('-add_para', '--add_parameter', default='', help='additional parameter', type=str)\n",
    "#     args = parser.parse_args() \n",
    "#     ar1 = args.Assemble_Read_1\n",
    "#     A_uID = args.A_uID_file\n",
    "#     remark = args.remark\n",
    "#     name = args.name\n",
    "#     outdir = args.outdir\n",
    "#     add_para = args.add_parameter\n",
    "#     submit_16S_FAST(ar1, A_uID, FB, RB, remark, name, outdir, add_para)"
   ]
  }
 ],
 "metadata": {
  "jupytext": {
   "formats": "ipynb,py:percent"
  },
  "kernelspec": {
   "display_name": "Python 3",
   "language": "python",
   "name": "python3"
  },
  "language_info": {
   "codemirror_mode": {
    "name": "ipython",
    "version": 3
   },
   "file_extension": ".py",
   "mimetype": "text/x-python",
   "name": "python",
   "nbconvert_exporter": "python",
   "pygments_lexer": "ipython3",
   "version": "3.7.4"
  }
 },
 "nbformat": 4,
 "nbformat_minor": 5
}

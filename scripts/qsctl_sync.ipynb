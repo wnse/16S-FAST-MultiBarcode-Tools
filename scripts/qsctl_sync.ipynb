{
 "cells": [
  {
   "cell_type": "code",
   "execution_count": 8,
   "id": "systematic-connecticut",
   "metadata": {
    "lines_to_next_cell": 2
   },
   "outputs": [],
   "source": [
    "import os\n",
    "import logging\n",
    "import re\n",
    "import time\n",
    "\n",
    "def qsctl_sync(local_dir, remark='', bucket='qs://bc-input-prod', bucket_path='/mnt/data/16S_FAST_V5_UMI/'):\n",
    "    if not remark:\n",
    "        remark = time.strftime(\"%Y%m%d%H%M%S\", time.localtime()) \n",
    "    remote_path = os.path.join(bucket_path, remark, os.path.split(re.sub('/$', '', local_dir))[1])\n",
    "    remote = bucket+remote_path\n",
    "    cmd = ' '.join(['qsctl sync', local_dir, remote])\n",
    "    logging.info(cmd)\n",
    "    status = os.system(cmd)\n",
    "    return remote_path\n",
    "    #qsctl sync local_dir 'qs://bc-input-prod/mnt/data/16S_FAST_V5_UMI/test1/"
   ]
  }
 ],
 "metadata": {
  "jupytext": {
   "formats": "ipynb,py:percent"
  },
  "kernelspec": {
   "display_name": "Python 3",
   "language": "python",
   "name": "python3"
  },
  "language_info": {
   "codemirror_mode": {
    "name": "ipython",
    "version": 3
   },
   "file_extension": ".py",
   "mimetype": "text/x-python",
   "name": "python",
   "nbconvert_exporter": "python",
   "pygments_lexer": "ipython3",
   "version": "3.7.7"
  }
 },
 "nbformat": 4,
 "nbformat_minor": 5
}
